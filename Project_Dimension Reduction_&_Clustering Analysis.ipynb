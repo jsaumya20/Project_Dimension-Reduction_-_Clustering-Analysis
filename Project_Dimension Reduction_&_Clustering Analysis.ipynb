{
 "cells": [
  {
   "cell_type": "markdown",
   "metadata": {
    "id": "VpuMTufmxt-F"
   },
   "source": [
    "### --------- GOAL: Predict the housing price using various factors related to a house----------------"
   ]
  },
  {
   "cell_type": "markdown",
   "metadata": {
    "id": "zBianLEsxt-J"
   },
   "source": [
    "### Import Statements"
   ]
  },
  {
   "cell_type": "code",
   "execution_count": 1,
   "metadata": {
    "id": "W7eRFRrtxt-K"
   },
   "outputs": [],
   "source": [
    "#Import Statements\n",
    "\n",
    "# Data Analysis libraries\n",
    "import pandas as pd\n",
    "import numpy as np\n",
    "\n",
    "# Data Visualization libraries\n",
    "import seaborn as sns\n",
    "import matplotlib.pyplot as plt\n",
    "\n",
    "# Machine Learning libraries\n",
    "from sklearn.model_selection import train_test_split\n",
    "from sklearn import metrics\n",
    "from sklearn.preprocessing import StandardScaler\n",
    "\n",
    "#Itertools for cartesian Product of PCA and MCA\n",
    "import itertools\n",
    "\n",
    "#Linear Regression and Ridge\n",
    "from sklearn.linear_model import LinearRegression\n",
    "from sklearn.linear_model import Ridge\n",
    "\n",
    "\n",
    "#Dimension Reduction for PCA and MCA\n",
    "from sklearn.decomposition import PCA\n",
    "import prince\n",
    "\n",
    "#Grid Search and Pipeline\n",
    "from sklearn.model_selection import GridSearchCV\n",
    "from sklearn.pipeline import Pipeline\n",
    "\n",
    "#Gower Distance\n",
    "import gower\n",
    "\n",
    "#K-Mediods\n",
    "from pyclustering.cluster.kmedoids import kmedoids\n",
    "\n",
    "#NMI : Normalized Mutual Info\n",
    "from sklearn.metrics.cluster import normalized_mutual_info_score"
   ]
  },
  {
   "cell_type": "markdown",
   "metadata": {
    "id": "bu2lJtnbxt-M"
   },
   "source": [
    "### Loading the Data"
   ]
  },
  {
   "cell_type": "code",
   "execution_count": 2,
   "metadata": {
    "id": "yUWjCD0Hxt-M"
   },
   "outputs": [],
   "source": [
    "# Load data set\n",
    "data = pd.read_csv('train.csv')\n",
    "data = data.drop('Id', axis = 1)"
   ]
  },
  {
   "cell_type": "code",
   "execution_count": 3,
   "metadata": {
    "id": "7WuVzpoKxt-M",
    "outputId": "3920a61e-0252-43f0-ddd3-167fccf94b2e"
   },
   "outputs": [
    {
     "name": "stdout",
     "output_type": "stream",
     "text": [
      "About the housing dataset:\n",
      "----------------------------------------------------------------------------------------------\n",
      "Number of rows in the dataset = 1460 \n",
      "Number of columns in the dataset = 80\n"
     ]
    }
   ],
   "source": [
    "print(\"About the housing dataset:\")\n",
    "print(\"----------------------------------------------------------------------------------------------\")\n",
    "print(\"Number of rows in the dataset = {} \\nNumber of columns in the dataset = {}\".format(data.shape[0],data.shape[1]))"
   ]
  },
  {
   "cell_type": "markdown",
   "metadata": {
    "id": "Sz5pxNnBxt-O"
   },
   "source": [
    "### Data Cleaning"
   ]
  },
  {
   "cell_type": "code",
   "execution_count": 4,
   "metadata": {
    "id": "hBkyzKBrxt-P"
   },
   "outputs": [],
   "source": [
    "# Remove columns that have too many missing values\n",
    "data = data.drop(data.columns[data.isnull().sum() > 30], axis = 1)\n",
    "\n",
    "# Remove missing values\n",
    "data.dropna(inplace = True)"
   ]
  },
  {
   "cell_type": "code",
   "execution_count": 5,
   "metadata": {
    "id": "ec8a2Cogxt-Q",
    "outputId": "7f6d62b9-d177-43ad-f3ae-4164530433a0"
   },
   "outputs": [
    {
     "data": {
      "text/html": [
       "<div>\n",
       "<style scoped>\n",
       "    .dataframe tbody tr th:only-of-type {\n",
       "        vertical-align: middle;\n",
       "    }\n",
       "\n",
       "    .dataframe tbody tr th {\n",
       "        vertical-align: top;\n",
       "    }\n",
       "\n",
       "    .dataframe thead th {\n",
       "        text-align: right;\n",
       "    }\n",
       "</style>\n",
       "<table border=\"1\" class=\"dataframe\">\n",
       "  <thead>\n",
       "    <tr style=\"text-align: right;\">\n",
       "      <th></th>\n",
       "      <th>MSSubClass</th>\n",
       "      <th>MSZoning</th>\n",
       "      <th>LotArea</th>\n",
       "      <th>Street</th>\n",
       "      <th>LotShape</th>\n",
       "      <th>LandContour</th>\n",
       "      <th>Utilities</th>\n",
       "      <th>LotConfig</th>\n",
       "      <th>LandSlope</th>\n",
       "      <th>Neighborhood</th>\n",
       "      <th>...</th>\n",
       "      <th>EnclosedPorch</th>\n",
       "      <th>3SsnPorch</th>\n",
       "      <th>ScreenPorch</th>\n",
       "      <th>PoolArea</th>\n",
       "      <th>MiscVal</th>\n",
       "      <th>MoSold</th>\n",
       "      <th>YrSold</th>\n",
       "      <th>SaleType</th>\n",
       "      <th>SaleCondition</th>\n",
       "      <th>SalePrice</th>\n",
       "    </tr>\n",
       "  </thead>\n",
       "  <tbody>\n",
       "    <tr>\n",
       "      <th>0</th>\n",
       "      <td>60</td>\n",
       "      <td>RL</td>\n",
       "      <td>8450</td>\n",
       "      <td>Pave</td>\n",
       "      <td>Reg</td>\n",
       "      <td>Lvl</td>\n",
       "      <td>AllPub</td>\n",
       "      <td>Inside</td>\n",
       "      <td>Gtl</td>\n",
       "      <td>CollgCr</td>\n",
       "      <td>...</td>\n",
       "      <td>0</td>\n",
       "      <td>0</td>\n",
       "      <td>0</td>\n",
       "      <td>0</td>\n",
       "      <td>0</td>\n",
       "      <td>2</td>\n",
       "      <td>2008</td>\n",
       "      <td>WD</td>\n",
       "      <td>Normal</td>\n",
       "      <td>208500</td>\n",
       "    </tr>\n",
       "    <tr>\n",
       "      <th>1</th>\n",
       "      <td>20</td>\n",
       "      <td>RL</td>\n",
       "      <td>9600</td>\n",
       "      <td>Pave</td>\n",
       "      <td>Reg</td>\n",
       "      <td>Lvl</td>\n",
       "      <td>AllPub</td>\n",
       "      <td>FR2</td>\n",
       "      <td>Gtl</td>\n",
       "      <td>Veenker</td>\n",
       "      <td>...</td>\n",
       "      <td>0</td>\n",
       "      <td>0</td>\n",
       "      <td>0</td>\n",
       "      <td>0</td>\n",
       "      <td>0</td>\n",
       "      <td>5</td>\n",
       "      <td>2007</td>\n",
       "      <td>WD</td>\n",
       "      <td>Normal</td>\n",
       "      <td>181500</td>\n",
       "    </tr>\n",
       "    <tr>\n",
       "      <th>2</th>\n",
       "      <td>60</td>\n",
       "      <td>RL</td>\n",
       "      <td>11250</td>\n",
       "      <td>Pave</td>\n",
       "      <td>IR1</td>\n",
       "      <td>Lvl</td>\n",
       "      <td>AllPub</td>\n",
       "      <td>Inside</td>\n",
       "      <td>Gtl</td>\n",
       "      <td>CollgCr</td>\n",
       "      <td>...</td>\n",
       "      <td>0</td>\n",
       "      <td>0</td>\n",
       "      <td>0</td>\n",
       "      <td>0</td>\n",
       "      <td>0</td>\n",
       "      <td>9</td>\n",
       "      <td>2008</td>\n",
       "      <td>WD</td>\n",
       "      <td>Normal</td>\n",
       "      <td>223500</td>\n",
       "    </tr>\n",
       "    <tr>\n",
       "      <th>3</th>\n",
       "      <td>70</td>\n",
       "      <td>RL</td>\n",
       "      <td>9550</td>\n",
       "      <td>Pave</td>\n",
       "      <td>IR1</td>\n",
       "      <td>Lvl</td>\n",
       "      <td>AllPub</td>\n",
       "      <td>Corner</td>\n",
       "      <td>Gtl</td>\n",
       "      <td>Crawfor</td>\n",
       "      <td>...</td>\n",
       "      <td>272</td>\n",
       "      <td>0</td>\n",
       "      <td>0</td>\n",
       "      <td>0</td>\n",
       "      <td>0</td>\n",
       "      <td>2</td>\n",
       "      <td>2006</td>\n",
       "      <td>WD</td>\n",
       "      <td>Abnorml</td>\n",
       "      <td>140000</td>\n",
       "    </tr>\n",
       "    <tr>\n",
       "      <th>4</th>\n",
       "      <td>60</td>\n",
       "      <td>RL</td>\n",
       "      <td>14260</td>\n",
       "      <td>Pave</td>\n",
       "      <td>IR1</td>\n",
       "      <td>Lvl</td>\n",
       "      <td>AllPub</td>\n",
       "      <td>FR2</td>\n",
       "      <td>Gtl</td>\n",
       "      <td>NoRidge</td>\n",
       "      <td>...</td>\n",
       "      <td>0</td>\n",
       "      <td>0</td>\n",
       "      <td>0</td>\n",
       "      <td>0</td>\n",
       "      <td>0</td>\n",
       "      <td>12</td>\n",
       "      <td>2008</td>\n",
       "      <td>WD</td>\n",
       "      <td>Normal</td>\n",
       "      <td>250000</td>\n",
       "    </tr>\n",
       "  </tbody>\n",
       "</table>\n",
       "<p>5 rows × 64 columns</p>\n",
       "</div>"
      ],
      "text/plain": [
       "   MSSubClass MSZoning  LotArea Street LotShape LandContour Utilities  \\\n",
       "0          60       RL     8450   Pave      Reg         Lvl    AllPub   \n",
       "1          20       RL     9600   Pave      Reg         Lvl    AllPub   \n",
       "2          60       RL    11250   Pave      IR1         Lvl    AllPub   \n",
       "3          70       RL     9550   Pave      IR1         Lvl    AllPub   \n",
       "4          60       RL    14260   Pave      IR1         Lvl    AllPub   \n",
       "\n",
       "  LotConfig LandSlope Neighborhood  ... EnclosedPorch 3SsnPorch ScreenPorch  \\\n",
       "0    Inside       Gtl      CollgCr  ...             0         0           0   \n",
       "1       FR2       Gtl      Veenker  ...             0         0           0   \n",
       "2    Inside       Gtl      CollgCr  ...             0         0           0   \n",
       "3    Corner       Gtl      Crawfor  ...           272         0           0   \n",
       "4       FR2       Gtl      NoRidge  ...             0         0           0   \n",
       "\n",
       "  PoolArea  MiscVal  MoSold  YrSold  SaleType SaleCondition SalePrice  \n",
       "0        0        0       2    2008        WD        Normal    208500  \n",
       "1        0        0       5    2007        WD        Normal    181500  \n",
       "2        0        0       9    2008        WD        Normal    223500  \n",
       "3        0        0       2    2006        WD       Abnorml    140000  \n",
       "4        0        0      12    2008        WD        Normal    250000  \n",
       "\n",
       "[5 rows x 64 columns]"
      ]
     },
     "execution_count": 5,
     "metadata": {},
     "output_type": "execute_result"
    }
   ],
   "source": [
    "data.head()"
   ]
  },
  {
   "cell_type": "code",
   "execution_count": 6,
   "metadata": {
    "id": "7_b54U1Oxt-R",
    "outputId": "209a527c-d103-4e01-9b1a-4703fa4372e2"
   },
   "outputs": [
    {
     "name": "stdout",
     "output_type": "stream",
     "text": [
      "After removing Null values:\n",
      "-------------------------------------------\n",
      "Number of rows in the dataset = 1451 \n",
      "Number of columns in the dataset = 64\n"
     ]
    }
   ],
   "source": [
    "print(\"After removing Null values:\")\n",
    "print(\"-------------------------------------------\")\n",
    "print(\"Number of rows in the dataset = {} \\nNumber of columns in the dataset = {}\".format(data.shape[0],data.shape[1]))"
   ]
  },
  {
   "cell_type": "markdown",
   "metadata": {
    "id": "gX9fV8nVxt-S"
   },
   "source": [
    "## Part I: Dimension Reduction\n",
    "\n",
    "Principal Component Analysis(PCA) is applied to numerical features.\n",
    "\n",
    "Multiple Correspondence Analysis(MCA) is applied to categorical data."
   ]
  },
  {
   "cell_type": "markdown",
   "metadata": {
    "id": "MbUmE5dtxt-T"
   },
   "source": [
    "#### Setting up X and Y variables"
   ]
  },
  {
   "cell_type": "code",
   "execution_count": 7,
   "metadata": {
    "id": "L1kKhHR3xt-T"
   },
   "outputs": [],
   "source": [
    "X = data.drop('SalePrice', axis = 1)\n",
    "y = data.SalePrice"
   ]
  },
  {
   "cell_type": "code",
   "execution_count": 8,
   "metadata": {
    "id": "V4dHsQ4-xt-T",
    "outputId": "6a8e85f9-2191-4116-ad98-9403e4cd1675"
   },
   "outputs": [
    {
     "name": "stdout",
     "output_type": "stream",
     "text": [
      "<class 'pandas.core.frame.DataFrame'>\n",
      "Int64Index: 1451 entries, 0 to 1459\n",
      "Data columns (total 63 columns):\n",
      " #   Column         Non-Null Count  Dtype  \n",
      "---  ------         --------------  -----  \n",
      " 0   MSSubClass     1451 non-null   int64  \n",
      " 1   MSZoning       1451 non-null   object \n",
      " 2   LotArea        1451 non-null   int64  \n",
      " 3   Street         1451 non-null   object \n",
      " 4   LotShape       1451 non-null   object \n",
      " 5   LandContour    1451 non-null   object \n",
      " 6   Utilities      1451 non-null   object \n",
      " 7   LotConfig      1451 non-null   object \n",
      " 8   LandSlope      1451 non-null   object \n",
      " 9   Neighborhood   1451 non-null   object \n",
      " 10  Condition1     1451 non-null   object \n",
      " 11  Condition2     1451 non-null   object \n",
      " 12  BldgType       1451 non-null   object \n",
      " 13  HouseStyle     1451 non-null   object \n",
      " 14  OverallQual    1451 non-null   int64  \n",
      " 15  OverallCond    1451 non-null   int64  \n",
      " 16  YearBuilt      1451 non-null   int64  \n",
      " 17  YearRemodAdd   1451 non-null   int64  \n",
      " 18  RoofStyle      1451 non-null   object \n",
      " 19  RoofMatl       1451 non-null   object \n",
      " 20  Exterior1st    1451 non-null   object \n",
      " 21  Exterior2nd    1451 non-null   object \n",
      " 22  MasVnrType     1451 non-null   object \n",
      " 23  MasVnrArea     1451 non-null   float64\n",
      " 24  ExterQual      1451 non-null   object \n",
      " 25  ExterCond      1451 non-null   object \n",
      " 26  Foundation     1451 non-null   object \n",
      " 27  BsmtFinSF1     1451 non-null   int64  \n",
      " 28  BsmtFinSF2     1451 non-null   int64  \n",
      " 29  BsmtUnfSF      1451 non-null   int64  \n",
      " 30  TotalBsmtSF    1451 non-null   int64  \n",
      " 31  Heating        1451 non-null   object \n",
      " 32  HeatingQC      1451 non-null   object \n",
      " 33  CentralAir     1451 non-null   object \n",
      " 34  Electrical     1451 non-null   object \n",
      " 35  1stFlrSF       1451 non-null   int64  \n",
      " 36  2ndFlrSF       1451 non-null   int64  \n",
      " 37  LowQualFinSF   1451 non-null   int64  \n",
      " 38  GrLivArea      1451 non-null   int64  \n",
      " 39  BsmtFullBath   1451 non-null   int64  \n",
      " 40  BsmtHalfBath   1451 non-null   int64  \n",
      " 41  FullBath       1451 non-null   int64  \n",
      " 42  HalfBath       1451 non-null   int64  \n",
      " 43  BedroomAbvGr   1451 non-null   int64  \n",
      " 44  KitchenAbvGr   1451 non-null   int64  \n",
      " 45  KitchenQual    1451 non-null   object \n",
      " 46  TotRmsAbvGrd   1451 non-null   int64  \n",
      " 47  Functional     1451 non-null   object \n",
      " 48  Fireplaces     1451 non-null   int64  \n",
      " 49  GarageCars     1451 non-null   int64  \n",
      " 50  GarageArea     1451 non-null   int64  \n",
      " 51  PavedDrive     1451 non-null   object \n",
      " 52  WoodDeckSF     1451 non-null   int64  \n",
      " 53  OpenPorchSF    1451 non-null   int64  \n",
      " 54  EnclosedPorch  1451 non-null   int64  \n",
      " 55  3SsnPorch      1451 non-null   int64  \n",
      " 56  ScreenPorch    1451 non-null   int64  \n",
      " 57  PoolArea       1451 non-null   int64  \n",
      " 58  MiscVal        1451 non-null   int64  \n",
      " 59  MoSold         1451 non-null   int64  \n",
      " 60  YrSold         1451 non-null   int64  \n",
      " 61  SaleType       1451 non-null   object \n",
      " 62  SaleCondition  1451 non-null   object \n",
      "dtypes: float64(1), int64(33), object(29)\n",
      "memory usage: 725.5+ KB\n"
     ]
    }
   ],
   "source": [
    "X.info()"
   ]
  },
  {
   "cell_type": "markdown",
   "metadata": {
    "id": "4jDrxrYDxt-U"
   },
   "source": [
    "The data types of the columns are object, int64, float64\n",
    "\n",
    "The columns with object data type are categorical in nature\n",
    "\n",
    "The columns with int64 data type are numerical in nature\n",
    "\n",
    "MasVnrArea is the only column in float64 data type"
   ]
  },
  {
   "cell_type": "markdown",
   "metadata": {
    "id": "kLdIcER9xt-U"
   },
   "source": [
    "#### Converting data types"
   ]
  },
  {
   "cell_type": "code",
   "execution_count": 9,
   "metadata": {
    "id": "X3HLYzO9xt-U"
   },
   "outputs": [],
   "source": [
    "#Year,month columns are listed as int64. \n",
    "#But for this project, all columns with year,month values will be considered as categorical vaiables.\n",
    "#MasVnrArea is listed as a float64.\n",
    "#As there are no decimal values in this column, MasVnrArea will be converted to int datatype.\n",
    "\n",
    "X[['YearBuilt', 'YearRemodAdd', 'MoSold', 'YrSold']] = X[['YearBuilt', 'YearRemodAdd', 'MoSold', 'YrSold']].astype(dtype = 'object')\n",
    "X['MasVnrArea'] = X['MasVnrArea'].astype(np.int64)"
   ]
  },
  {
   "cell_type": "code",
   "execution_count": 10,
   "metadata": {
    "id": "fy8PUEBrxt-U",
    "outputId": "70845384-abd0-4c74-b426-0d0853b1f8fd"
   },
   "outputs": [
    {
     "name": "stdout",
     "output_type": "stream",
     "text": [
      "<class 'pandas.core.frame.DataFrame'>\n",
      "Int64Index: 1451 entries, 0 to 1459\n",
      "Data columns (total 63 columns):\n",
      " #   Column         Non-Null Count  Dtype \n",
      "---  ------         --------------  ----- \n",
      " 0   MSSubClass     1451 non-null   int64 \n",
      " 1   MSZoning       1451 non-null   object\n",
      " 2   LotArea        1451 non-null   int64 \n",
      " 3   Street         1451 non-null   object\n",
      " 4   LotShape       1451 non-null   object\n",
      " 5   LandContour    1451 non-null   object\n",
      " 6   Utilities      1451 non-null   object\n",
      " 7   LotConfig      1451 non-null   object\n",
      " 8   LandSlope      1451 non-null   object\n",
      " 9   Neighborhood   1451 non-null   object\n",
      " 10  Condition1     1451 non-null   object\n",
      " 11  Condition2     1451 non-null   object\n",
      " 12  BldgType       1451 non-null   object\n",
      " 13  HouseStyle     1451 non-null   object\n",
      " 14  OverallQual    1451 non-null   int64 \n",
      " 15  OverallCond    1451 non-null   int64 \n",
      " 16  YearBuilt      1451 non-null   object\n",
      " 17  YearRemodAdd   1451 non-null   object\n",
      " 18  RoofStyle      1451 non-null   object\n",
      " 19  RoofMatl       1451 non-null   object\n",
      " 20  Exterior1st    1451 non-null   object\n",
      " 21  Exterior2nd    1451 non-null   object\n",
      " 22  MasVnrType     1451 non-null   object\n",
      " 23  MasVnrArea     1451 non-null   int64 \n",
      " 24  ExterQual      1451 non-null   object\n",
      " 25  ExterCond      1451 non-null   object\n",
      " 26  Foundation     1451 non-null   object\n",
      " 27  BsmtFinSF1     1451 non-null   int64 \n",
      " 28  BsmtFinSF2     1451 non-null   int64 \n",
      " 29  BsmtUnfSF      1451 non-null   int64 \n",
      " 30  TotalBsmtSF    1451 non-null   int64 \n",
      " 31  Heating        1451 non-null   object\n",
      " 32  HeatingQC      1451 non-null   object\n",
      " 33  CentralAir     1451 non-null   object\n",
      " 34  Electrical     1451 non-null   object\n",
      " 35  1stFlrSF       1451 non-null   int64 \n",
      " 36  2ndFlrSF       1451 non-null   int64 \n",
      " 37  LowQualFinSF   1451 non-null   int64 \n",
      " 38  GrLivArea      1451 non-null   int64 \n",
      " 39  BsmtFullBath   1451 non-null   int64 \n",
      " 40  BsmtHalfBath   1451 non-null   int64 \n",
      " 41  FullBath       1451 non-null   int64 \n",
      " 42  HalfBath       1451 non-null   int64 \n",
      " 43  BedroomAbvGr   1451 non-null   int64 \n",
      " 44  KitchenAbvGr   1451 non-null   int64 \n",
      " 45  KitchenQual    1451 non-null   object\n",
      " 46  TotRmsAbvGrd   1451 non-null   int64 \n",
      " 47  Functional     1451 non-null   object\n",
      " 48  Fireplaces     1451 non-null   int64 \n",
      " 49  GarageCars     1451 non-null   int64 \n",
      " 50  GarageArea     1451 non-null   int64 \n",
      " 51  PavedDrive     1451 non-null   object\n",
      " 52  WoodDeckSF     1451 non-null   int64 \n",
      " 53  OpenPorchSF    1451 non-null   int64 \n",
      " 54  EnclosedPorch  1451 non-null   int64 \n",
      " 55  3SsnPorch      1451 non-null   int64 \n",
      " 56  ScreenPorch    1451 non-null   int64 \n",
      " 57  PoolArea       1451 non-null   int64 \n",
      " 58  MiscVal        1451 non-null   int64 \n",
      " 59  MoSold         1451 non-null   object\n",
      " 60  YrSold         1451 non-null   object\n",
      " 61  SaleType       1451 non-null   object\n",
      " 62  SaleCondition  1451 non-null   object\n",
      "dtypes: int64(30), object(33)\n",
      "memory usage: 725.5+ KB\n"
     ]
    }
   ],
   "source": [
    "#Checking if datatypes are updated\n",
    "X.info()"
   ]
  },
  {
   "cell_type": "markdown",
   "metadata": {
    "id": "jhNdiPkCxt-V"
   },
   "source": [
    "#### Setting up Categorical and Numerical Features"
   ]
  },
  {
   "cell_type": "code",
   "execution_count": 11,
   "metadata": {
    "id": "CK3TV4Ynxt-V"
   },
   "outputs": [],
   "source": [
    "#All categorical features are of dtype object while the quant features are int64. \n",
    "cat = X.select_dtypes(include=['object']).dtypes \n",
    "num = X.select_dtypes(exclude =['object']).dtypes"
   ]
  },
  {
   "cell_type": "code",
   "execution_count": 12,
   "metadata": {
    "id": "dQWFfUNdxt-V",
    "outputId": "e8dbbbae-634d-43f5-e9b5-5c713ad3d2e5"
   },
   "outputs": [
    {
     "name": "stdout",
     "output_type": "stream",
     "text": [
      "Distribution of columns in the dataset:\n",
      "---------------------------------------------------------------------------------\n",
      "Number of categorical columns in X = 33\n",
      "Number of numerical columns in X = 30\n"
     ]
    }
   ],
   "source": [
    "print(\"Distribution of columns in the dataset:\")\n",
    "print(\"---------------------------------------------------------------------------------\")\n",
    "print(\"Number of categorical columns in X = {}\".format(cat.shape[0]))\n",
    "print(\"Number of numerical columns in X = {}\".format(num.shape[0]))"
   ]
  },
  {
   "cell_type": "markdown",
   "metadata": {
    "id": "0t6YhQFlxt-V"
   },
   "source": [
    "#### Splitting the data into 3 pieces (training, validation, testing)."
   ]
  },
  {
   "cell_type": "code",
   "execution_count": 13,
   "metadata": {
    "id": "qaQNozYnxt-V"
   },
   "outputs": [],
   "source": [
    "#Splitting data into train and test. 80% train and 20% test. \n",
    "\n",
    "X_train, X_test, y_train, y_test = train_test_split(X, y, test_size=0.20, random_state= 23)\n",
    "\n",
    "#Splitting train data into training and validation.  60% train, 20%valid, 20%test\n",
    "\n",
    "X_train, X_valid, y_train, y_valid = train_test_split(X_train, y_train, test_size = 0.25, random_state = 23)\n"
   ]
  },
  {
   "cell_type": "code",
   "execution_count": 14,
   "metadata": {
    "id": "53lNWawhxt-W",
    "outputId": "cd21caf2-89f1-4c5f-c962-43a5b33e2b3d"
   },
   "outputs": [
    {
     "name": "stdout",
     "output_type": "stream",
     "text": [
      "Dataset splits:\n",
      "---------------------------------------------------------------------------------------\n",
      "Total rows in X = 1451\n",
      "Number of rows in X's Train split = 870 , Split Percentage = 59.96%\n",
      "Number of rows in X's Valid Split = 290 , Split Percentage = 19.99%\n",
      "Number of rows in X's Test split = 291 , Split Percentage = 20.06%\n"
     ]
    }
   ],
   "source": [
    "print(\"Dataset splits:\")\n",
    "print(\"---------------------------------------------------------------------------------------\")\n",
    "print(\"Total rows in X = {}\".format(X.shape[0]))\n",
    "print(\"Number of rows in X's Train split = {} , Split Percentage = {:.2f}%\".format(X_train.shape[0],(X_train.shape[0]/X.shape[0])*100))\n",
    "print(\"Number of rows in X's Valid Split = {} , Split Percentage = {:.2f}%\".format(X_valid.shape[0],(X_valid.shape[0]/X.shape[0])*100))\n",
    "print(\"Number of rows in X's Test split = {} , Split Percentage = {:.2f}%\".format(X_test.shape[0],(X_test.shape[0]/X.shape[0])*100))"
   ]
  },
  {
   "cell_type": "markdown",
   "metadata": {
    "id": "Z9vZ9QCAxt-W"
   },
   "source": [
    "#### Setting up Categorical and Numerical Features in the split data"
   ]
  },
  {
   "cell_type": "code",
   "execution_count": 15,
   "metadata": {
    "id": "U1yWQWtpxt-W"
   },
   "outputs": [],
   "source": [
    "#Separate numerical and categorical features into different datasets\n",
    "\n",
    "#Filter out categorical features from the dataset splits\n",
    "X_train_cat = X_train[cat.index]\n",
    "X_valid_cat = X_valid[cat.index]\n",
    "X_test_cat = X_test[cat.index]\n",
    "\n",
    "#Filter out numerical features from the dataset splits\n",
    "X_train_num = X_train[num.index]\n",
    "X_valid_num = X_valid[num.index]\n",
    "X_test_num = X_test[num.index]"
   ]
  },
  {
   "cell_type": "markdown",
   "metadata": {
    "id": "aUp9oXkgxt-W"
   },
   "source": [
    "#### Balancing Levels"
   ]
  },
  {
   "cell_type": "code",
   "execution_count": 16,
   "metadata": {
    "id": "jR4Be4-nxt-W",
    "outputId": "635c9607-844e-4ed2-8c47-3cb4c2cffd78"
   },
   "outputs": [
    {
     "data": {
      "text/plain": [
       "MSZoning           5\n",
       "Street             2\n",
       "LotShape           4\n",
       "LandContour        4\n",
       "Utilities          2\n",
       "LotConfig          5\n",
       "LandSlope          3\n",
       "Neighborhood      25\n",
       "Condition1         9\n",
       "Condition2         4\n",
       "BldgType           5\n",
       "HouseStyle         8\n",
       "YearBuilt        103\n",
       "YearRemodAdd      61\n",
       "RoofStyle          5\n",
       "RoofMatl           7\n",
       "Exterior1st       13\n",
       "Exterior2nd       15\n",
       "MasVnrType         4\n",
       "ExterQual          4\n",
       "ExterCond          5\n",
       "Foundation         6\n",
       "Heating            5\n",
       "HeatingQC          5\n",
       "CentralAir         2\n",
       "Electrical         5\n",
       "KitchenQual        4\n",
       "Functional         6\n",
       "PavedDrive         3\n",
       "MoSold            12\n",
       "YrSold             5\n",
       "SaleType           8\n",
       "SaleCondition      6\n",
       "dtype: int64"
      ]
     },
     "execution_count": 16,
     "metadata": {},
     "output_type": "execute_result"
    }
   ],
   "source": [
    "#Checking the unique values in X train's categorical columns\n",
    "X_train_cat.nunique()"
   ]
  },
  {
   "cell_type": "code",
   "execution_count": 17,
   "metadata": {
    "id": "6WsX3y-bxt-X",
    "outputId": "93a57212-ce68-4791-d89a-cbb73c1d0893"
   },
   "outputs": [
    {
     "data": {
      "text/plain": [
       "MSZoning          4\n",
       "Street            2\n",
       "LotShape          4\n",
       "LandContour       4\n",
       "Utilities         1\n",
       "LotConfig         4\n",
       "LandSlope         3\n",
       "Neighborhood     24\n",
       "Condition1        8\n",
       "Condition2        6\n",
       "BldgType          5\n",
       "HouseStyle        8\n",
       "YearBuilt        89\n",
       "YearRemodAdd     56\n",
       "RoofStyle         6\n",
       "RoofMatl          4\n",
       "Exterior1st      10\n",
       "Exterior2nd      13\n",
       "MasVnrType        4\n",
       "ExterQual         4\n",
       "ExterCond         4\n",
       "Foundation        5\n",
       "Heating           5\n",
       "HeatingQC         4\n",
       "CentralAir        2\n",
       "Electrical        3\n",
       "KitchenQual       4\n",
       "Functional        5\n",
       "PavedDrive        3\n",
       "MoSold           12\n",
       "YrSold            5\n",
       "SaleType          8\n",
       "SaleCondition     6\n",
       "dtype: int64"
      ]
     },
     "execution_count": 17,
     "metadata": {},
     "output_type": "execute_result"
    }
   ],
   "source": [
    "# checking the unique values in X validation categorical data frame \n",
    "X_valid_cat.nunique()"
   ]
  },
  {
   "cell_type": "markdown",
   "metadata": {
    "id": "s0NuHfjZxt-X"
   },
   "source": [
    "We see that X train and X validation do not have the same unique categories in their columns.\n",
    "\n",
    "For eg: MSZoning has 5 unique categories in Train split whereas MSZoning has only 4 unique categories in Validation split\n",
    "\n",
    "Unless the unique categories (levels) in each column are not balanced, we will not be able to compare them."
   ]
  },
  {
   "cell_type": "code",
   "execution_count": 18,
   "metadata": {
    "id": "iO0BVbyaxt-X"
   },
   "outputs": [],
   "source": [
    "# to make sure the training,validation and testing categorical variables has same number of levels\n",
    "# keeping the coulmns with same number of categories\n",
    "keep = [] \n",
    "\n",
    "for n in X_train_cat.columns:\n",
    "    if X_train_cat.nunique()[n] == X_test_cat.nunique()[n] == X_valid_cat.nunique()[n]:\n",
    "        keep.append(True)\n",
    "    else:\n",
    "        keep.append(False)\n",
    "\n",
    "X_train_cat = X_train_cat[X_train_cat.columns[keep]]\n",
    "X_valid_cat = X_valid_cat[X_valid_cat.columns[keep]]\n",
    "X_test_cat = X_test_cat[X_test_cat.columns[keep]]"
   ]
  },
  {
   "cell_type": "code",
   "execution_count": 19,
   "metadata": {
    "id": "Aew-HWFXxt-X"
   },
   "outputs": [],
   "source": [
    "# making sure the classes are the same in each categorical variable column\n",
    "keep_col = []\n",
    "\n",
    "for i in range(len(X_train_cat.columns)):\n",
    "    if all(np.sort(X_train_cat.iloc[:,i].unique()) == np.sort(X_test_cat.iloc[:,i].unique())) and all(np.sort(X_valid_cat.iloc[:,i].unique()) == np.sort(X_test_cat.iloc[:,i].unique())):\n",
    "        keep_col.append(True)\n",
    "    else:\n",
    "        keep_col.append(False)\n",
    "        \n",
    "X_train_cat = X_train_cat[X_train_cat.columns[keep_col]]\n",
    "X_valid_cat = X_valid_cat[X_valid_cat.columns[keep_col]]\n",
    "X_test_cat = X_test_cat[X_test_cat.columns[keep_col]]"
   ]
  },
  {
   "cell_type": "code",
   "execution_count": 20,
   "metadata": {
    "id": "2pymAyS7xt-X",
    "outputId": "0cc49681-63ac-4375-f5e9-2b202b7d5ed5"
   },
   "outputs": [
    {
     "name": "stdout",
     "output_type": "stream",
     "text": [
      "After balancing levels:\n",
      "--------------------------------------------------------------------\n",
      "Number of columns in X_train's categorical split = 14\n",
      "Number of columns in X_valid's categorical split = 14\n",
      "Number of columns in X_test's categorical split = 14\n"
     ]
    }
   ],
   "source": [
    "print(\"After balancing levels:\")\n",
    "print(\"--------------------------------------------------------------------\")\n",
    "print(\"Number of columns in X_train's categorical split = {}\".format(X_train_cat.shape[1]))\n",
    "print(\"Number of columns in X_valid's categorical split = {}\".format(X_valid_cat.shape[1]))\n",
    "print(\"Number of columns in X_test's categorical split = {}\".format(X_test_cat.shape[1]))"
   ]
  },
  {
   "cell_type": "markdown",
   "metadata": {
    "id": "iccZlLv-xt-Y"
   },
   "source": [
    "#### Scaling Numerical Features"
   ]
  },
  {
   "cell_type": "code",
   "execution_count": 21,
   "metadata": {
    "id": "x83vDsN-xt-Y"
   },
   "outputs": [],
   "source": [
    "#Scaling the traininig & validation dataset\n",
    "# we need to scale the data first before we do any sort of transformation with PCA. We chose to use standardscaler. \n",
    "scaler = StandardScaler()\n",
    "scaler.fit(X_train_num)\n",
    "X_train_num_scaled = pd.DataFrame(scaler.transform(X_train_num), index = X_train_num.index)\n",
    "X_valid_num_scaled = pd.DataFrame(scaler.transform(X_valid_num), index = X_valid_num.index)"
   ]
  },
  {
   "cell_type": "markdown",
   "metadata": {
    "id": "plpkvJyAxt-Y"
   },
   "source": [
    "#### Hyper parameter Tuning"
   ]
  },
  {
   "cell_type": "code",
   "execution_count": 22,
   "metadata": {
    "id": "lZbFlLLPxt-Y"
   },
   "outputs": [],
   "source": [
    "pca_n = range(2,18)\n",
    "mca_n = range(2,15)\n",
    "\n",
    "#cartesian product, equivalent to a nested for-loop\n",
    "hyperparameter_pairs = list(itertools.product(pca_n, mca_n)) \n",
    "\n",
    "rmse_results = [] # Storing the rmse results\n",
    "rmse_percentage = [] #Storing rmse percentage results\n",
    "\n",
    "for pairs in hyperparameter_pairs:\n",
    "    \n",
    "    #Apply PCA on the numerical features in Train split\n",
    "    pca = PCA(n_components = pairs[0], random_state = 23)\n",
    "    X_train_num_scaled_transform = pd.DataFrame(pca.fit_transform(X_train_num_scaled),index = X_train_num_scaled.index)\n",
    "    \n",
    "    #Apply MCA on the categorical features in Train split\n",
    "    mca = prince.MCA(n_components = pairs[1], random_state = 23)\n",
    "    X_train_cat_transform = pd.DataFrame(mca.fit_transform(X_train_cat), index = X_train_cat.index)\n",
    "    \n",
    "    #Combine PCA and MCA training together\n",
    "    X_train_cn_transform = pd.concat([X_train_cat_transform, X_train_num_scaled_transform], axis = 1)\n",
    "\n",
    "    #Fit LinearRegression model using combined training data\n",
    "    linreg = LinearRegression()\n",
    "    linreg.fit(X_train_cn_transform, y_train)    \n",
    "    \n",
    "    #PCA transform on numerical validation data split\n",
    "    X_valid_num_scaled_transform = pd.DataFrame(pca.transform(X_valid_num_scaled),index = X_valid_num_scaled.index)\n",
    "    \n",
    "    #MCA TRANSFORM on categorical validation data split\n",
    "    X_valid_cat_transform = pd.DataFrame(mca.transform(X_valid_cat), index = X_valid_cat.index)\n",
    "    \n",
    "    #Combine PCA and MCA validation together\n",
    "    X_valid_cn_transform = pd.concat([X_valid_cat_transform, X_valid_num_scaled_transform], axis = 1)\n",
    "    \n",
    "    #Predicting y\n",
    "    y_pred = linreg.predict(X_valid_cn_transform)\n",
    "    \n",
    "    #Calculating RMSE\n",
    "    rmse_results.append(np.sqrt(metrics.mean_squared_error(y_valid,y_pred)))\n",
    "    \n",
    "    #Calculating RMSE Percentage\n",
    "    rmse_percentage.append((np.sqrt(np.mean(np.square((y_valid - y_pred) / y_valid)))) * 100)"
   ]
  },
  {
   "cell_type": "code",
   "execution_count": 23,
   "metadata": {
    "id": "RIHMgKVpxt-Z",
    "outputId": "00d207db-4076-4352-eb4a-6945ec1df969"
   },
   "outputs": [
    {
     "name": "stdout",
     "output_type": "stream",
     "text": [
      "Tuned Hyper parameters: \n",
      "--------------------------------------------------------------------\n",
      "The best hyperparameters to use is: PCA: 16, MCA: 14\n",
      "RMSE on the validation dataset using the hyperparameter pair: 33531.33666504516 \n",
      "Accuracy Percentage on the validation dataset using the hyperparameter pair: 80.93 % \n"
     ]
    }
   ],
   "source": [
    "accuracy = []\n",
    "accuracy_name = []\n",
    "best_hyp = hyperparameter_pairs[np.argmin(rmse_results)]\n",
    "print(\"Tuned Hyper parameters: \")\n",
    "print(\"--------------------------------------------------------------------\")\n",
    "print(\"The best hyperparameters to use is: PCA: {}, MCA: {}\".format(best_hyp[0],best_hyp[1]))\n",
    "print(\"RMSE on the validation dataset using the hyperparameter pair: {} \".format(min(rmse_results)))\n",
    "Accuracy_percentage_Train = 100 - min(rmse_percentage)\n",
    "accuracy_name.append(\"Dimension Reduced Validation Accuracy\")\n",
    "accuracy.append(Accuracy_percentage_Train)\n",
    "print(\"Accuracy Percentage on the validation dataset using the hyperparameter pair: {:.2f} % \".format(Accuracy_percentage_Train))"
   ]
  },
  {
   "cell_type": "markdown",
   "metadata": {
    "id": "j6-77yImxt-Z"
   },
   "source": [
    "#### Applying the best hyper parameters to Linear Regression Model and calculating Accuracy (RMSE) in Test Set"
   ]
  },
  {
   "cell_type": "markdown",
   "metadata": {
    "id": "utGkMvhDxt-Z"
   },
   "source": [
    "#### Combining training and validation data "
   ]
  },
  {
   "cell_type": "code",
   "execution_count": 24,
   "metadata": {
    "id": "Ah2rkR7sxt-Z"
   },
   "outputs": [],
   "source": [
    "#Combine training and validation categorical features\n",
    "X_tv_cat = pd.concat([X_train_cat, X_valid_cat], axis = 0)\n",
    "#Combine training and validation numerical features\n",
    "X_tv_num = pd.concat([X_train_num, X_valid_num], axis = 0) "
   ]
  },
  {
   "cell_type": "markdown",
   "metadata": {
    "id": "KMyA1PZ6xt-Z"
   },
   "source": [
    "#### Scaling Numerical Features in the combined tv (train) dataset"
   ]
  },
  {
   "cell_type": "code",
   "execution_count": 25,
   "metadata": {
    "id": "xaBihI1txt-Z"
   },
   "outputs": [],
   "source": [
    "#Scale Numerical data for tv(training and validation) and test datasets\n",
    "scaler.fit(X_tv_num)\n",
    "X_tv_num_scaled = pd.DataFrame(scaler.transform(X_tv_num), index = X_tv_num.index)\n",
    "X_test_num_scaled = pd.DataFrame(scaler.transform(X_test_num), index = X_test_num.index) "
   ]
  },
  {
   "cell_type": "markdown",
   "metadata": {
    "id": "9OZhGH2lxt-Z"
   },
   "source": [
    "#### Applying PCA on Numerical Features with tuned hyper parameter for PCA"
   ]
  },
  {
   "cell_type": "code",
   "execution_count": 26,
   "metadata": {
    "id": "uMFOonIWxt-a"
   },
   "outputs": [],
   "source": [
    "#PCA on tv data\n",
    "pca = PCA(n_components = best_hyp[0], random_state = 23)\n",
    "\n",
    "#PCA transform on numerical scaled tv data \n",
    "X_tv_num_scaled_transform = pd.DataFrame(pca.fit_transform(X_tv_num_scaled),index = X_tv_num_scaled.index)"
   ]
  },
  {
   "cell_type": "markdown",
   "metadata": {
    "id": "7DgH_tBKxt-a"
   },
   "source": [
    "#### Applying MCA on Categorical Features with tuned hyper parameter for MCA"
   ]
  },
  {
   "cell_type": "code",
   "execution_count": 27,
   "metadata": {
    "id": "d3oE3V6Gxt-a"
   },
   "outputs": [],
   "source": [
    "#MCA on tv data\n",
    "mca = prince.MCA(n_components = best_hyp[1], random_state = 23)\n",
    "\n",
    "#MCA tranform on categorical tv data\n",
    "X_tv_cat_transform = pd.DataFrame(mca.fit_transform(X_tv_cat), index = X_tv_cat.index)"
   ]
  },
  {
   "cell_type": "markdown",
   "metadata": {
    "id": "tV3g2fmNxt-a"
   },
   "source": [
    "#### Combining PCA and MCA tranformed data with reduced dimensions"
   ]
  },
  {
   "cell_type": "code",
   "execution_count": 28,
   "metadata": {
    "id": "L_pB0Smext-a"
   },
   "outputs": [],
   "source": [
    "#Combine PCA and MCA together on tv data\n",
    "X_tv_cn_transform = pd.concat([X_tv_cat_transform, X_tv_num_scaled_transform ], axis = 1)"
   ]
  },
  {
   "cell_type": "markdown",
   "metadata": {
    "id": "cxX1TjWUxt-a"
   },
   "source": [
    "#### Applying Linear Regression on Reduced dimension data"
   ]
  },
  {
   "cell_type": "code",
   "execution_count": 29,
   "metadata": {
    "id": "9Sgzkz4xxt-a",
    "outputId": "ddb571a2-819b-4114-f07d-39e23da89307"
   },
   "outputs": [
    {
     "data": {
      "text/plain": [
       "LinearRegression()"
      ]
     },
     "execution_count": 29,
     "metadata": {},
     "output_type": "execute_result"
    }
   ],
   "source": [
    "#Fit LinearRegression model\n",
    "y_tv = pd.concat([y_train, y_valid])\n",
    "linreg = LinearRegression()\n",
    "linreg.fit(X_tv_cn_transform, y_tv)"
   ]
  },
  {
   "cell_type": "markdown",
   "metadata": {
    "id": "-ikRFQ_vxt-a"
   },
   "source": [
    "#### Applying PCA on Test Numerical Features"
   ]
  },
  {
   "cell_type": "code",
   "execution_count": 30,
   "metadata": {
    "id": "4q8tM5Trxt-a"
   },
   "outputs": [],
   "source": [
    "#PCA TRANSFORM test data\n",
    "X_test_num_scaled_transform = pd.DataFrame(pca.transform(X_test_num_scaled),index = X_test_num_scaled.index)"
   ]
  },
  {
   "cell_type": "markdown",
   "metadata": {
    "id": "T_TLmX8nxt-b"
   },
   "source": [
    "#### Applying MCA on Test Categorical Features"
   ]
  },
  {
   "cell_type": "code",
   "execution_count": 31,
   "metadata": {
    "id": "ytcJ2ZX1xt-b"
   },
   "outputs": [],
   "source": [
    "#MCA TRANSFORM test data\n",
    "X_test_cat_transform = pd.DataFrame(mca.transform(X_test_cat), index = X_test_cat.index)"
   ]
  },
  {
   "cell_type": "markdown",
   "metadata": {
    "id": "UyMfd598xt-b"
   },
   "source": [
    "#### Combining Reduced Dimension Test Categorical and Numerical data"
   ]
  },
  {
   "cell_type": "code",
   "execution_count": 32,
   "metadata": {
    "id": "tQigFscbxt-b"
   },
   "outputs": [],
   "source": [
    "# Combine categorical and numerical test data\n",
    "X_test_cn_transform = pd.concat([X_test_cat_transform, X_test_num_scaled_transform], axis = 1)"
   ]
  },
  {
   "cell_type": "markdown",
   "metadata": {
    "id": "i2n4nvmcxt-b"
   },
   "source": [
    "#### Calculating RMSE"
   ]
  },
  {
   "cell_type": "code",
   "execution_count": 33,
   "metadata": {
    "id": "cFdxX7wGxt-c",
    "outputId": "a6e6e9be-73c2-40ac-c563-d67ce33e36cc"
   },
   "outputs": [
    {
     "name": "stdout",
     "output_type": "stream",
     "text": [
      "Accuracy of Test Data with Tuned Hyper parameters:\n",
      "------------------------------------------------------------------------\n",
      "RMSE for Test Data using hyperparameter pair = 50022.363345618185\n",
      "Accuracy Percentage for Test Data using hyperparameter pair = 73.17 %\n"
     ]
    }
   ],
   "source": [
    "#Calculate RMSE\n",
    "print(\"Accuracy of Test Data with Tuned Hyper parameters:\")\n",
    "print(\"------------------------------------------------------------------------\")\n",
    "y_pred = linreg.predict(X_test_cn_transform)\n",
    "RMSE_SCORE = (np.sqrt(metrics.mean_squared_error(y_test,y_pred)))\n",
    "Accuracy_Percentage_Test = 100 - ((np.sqrt(np.mean(np.square((y_test - y_pred) / y_test)))) * 100)\n",
    "accuracy_name.append(\"Dimension Reduced Test Accuracy\")\n",
    "accuracy.append(Accuracy_Percentage_Test)\n",
    "print(\"RMSE for Test Data using hyperparameter pair = {}\".format(RMSE_SCORE))\n",
    "print(\"Accuracy Percentage for Test Data using hyperparameter pair = {:.2f} %\".format(Accuracy_Percentage_Test))\n"
   ]
  },
  {
   "cell_type": "markdown",
   "metadata": {
    "id": "w6yc-1Zoxt-c"
   },
   "source": [
    "### Performing Ridge Regression on Original Dataset"
   ]
  },
  {
   "cell_type": "markdown",
   "metadata": {
    "id": "O2VRbRwxxt-c"
   },
   "source": [
    "#### Forming Dummy variables for categorical train and test data"
   ]
  },
  {
   "cell_type": "code",
   "execution_count": 34,
   "metadata": {
    "colab": {
     "base_uri": "https://localhost:8080/",
     "height": 208
    },
    "id": "alZju6Uxxt-c",
    "outputId": "4086d6be-535e-425b-df47-e6e7f6494132"
   },
   "outputs": [],
   "source": [
    "#Forming Dummy variables for categorical variables\n",
    "X_tv_cat_dummies = pd.get_dummies(X_tv_cat, drop_first = True)\n",
    "X_test_cat_dummies = pd.get_dummies(X_test_cat, drop_first = True)"
   ]
  },
  {
   "cell_type": "markdown",
   "metadata": {
    "id": "PQEW8lf9xt-c"
   },
   "source": [
    "#### Combining Dummy variable columns with Numerical features in train and test data"
   ]
  },
  {
   "cell_type": "code",
   "execution_count": 35,
   "metadata": {
    "id": "KqYEuvgmxt-d"
   },
   "outputs": [],
   "source": [
    "#Combining categorical and numerical datasets\n",
    "X_tv_cdn = pd.concat([X_tv_cat_dummies, X_tv_num], axis = 1)\n",
    "X_test_cdn = pd.concat([X_test_cat_dummies, X_test_num], axis = 1)"
   ]
  },
  {
   "cell_type": "markdown",
   "metadata": {
    "id": "Qmftk6pFxt-d"
   },
   "source": [
    "#### Performing Grid Search to tune parameters"
   ]
  },
  {
   "cell_type": "code",
   "execution_count": 36,
   "metadata": {
    "id": "v6F7h-R0xt-d"
   },
   "outputs": [],
   "source": [
    "#Setting up pipeline for GridSearch\n",
    "piper = Pipeline(steps = [('scale', StandardScaler()),('ridge', Ridge())])"
   ]
  },
  {
   "cell_type": "code",
   "execution_count": 37,
   "metadata": {
    "id": "GbRXoqnAxt-e"
   },
   "outputs": [],
   "source": [
    "#Setting up parameters for GridSearch\n",
    "params = {'ridge__alpha': np.logspace(-10,10,21),\n",
    "          'ridge__max_iter': [5,10,20,30]\n",
    "         } "
   ]
  },
  {
   "cell_type": "code",
   "execution_count": 38,
   "metadata": {
    "id": "2aRWXZxXxt-e"
   },
   "outputs": [
    {
     "data": {
      "text/plain": [
       "GridSearchCV(cv=10,\n",
       "             estimator=Pipeline(steps=[('scale', StandardScaler()),\n",
       "                                       ('ridge', Ridge())]),\n",
       "             n_jobs=-1,\n",
       "             param_grid={'ridge__alpha': array([1.e-10, 1.e-09, 1.e-08, 1.e-07, 1.e-06, 1.e-05, 1.e-04, 1.e-03,\n",
       "       1.e-02, 1.e-01, 1.e+00, 1.e+01, 1.e+02, 1.e+03, 1.e+04, 1.e+05,\n",
       "       1.e+06, 1.e+07, 1.e+08, 1.e+09, 1.e+10]),\n",
       "                         'ridge__max_iter': [5, 10, 20, 30]},\n",
       "             scoring='neg_mean_squared_error')"
      ]
     },
     "execution_count": 38,
     "metadata": {},
     "output_type": "execute_result"
    }
   ],
   "source": [
    "#GridSearch and fitting Ridge Regression Model\n",
    "grid_search_ridge = GridSearchCV(piper, params, cv = 10, scoring = 'neg_mean_squared_error', n_jobs = -1) \n",
    "grid_search_ridge.fit(X_tv_cdn, y_tv)"
   ]
  },
  {
   "cell_type": "code",
   "execution_count": 39,
   "metadata": {
    "id": "xc0FxwZext-f"
   },
   "outputs": [
    {
     "name": "stdout",
     "output_type": "stream",
     "text": [
      "Best parameters for Ridge Regression are:  {'ridge__alpha': 10.0, 'ridge__max_iter': 5}\n"
     ]
    }
   ],
   "source": [
    "print(\"Best parameters for Ridge Regression are: \",grid_search_ridge.best_params_)\n"
   ]
  },
  {
   "cell_type": "markdown",
   "metadata": {
    "id": "2KQWdr5gxt-f"
   },
   "source": [
    "#### Accuracy Calculation of Ridge Regression"
   ]
  },
  {
   "cell_type": "code",
   "execution_count": 40,
   "metadata": {
    "id": "jmR66Cowxt-g"
   },
   "outputs": [
    {
     "name": "stdout",
     "output_type": "stream",
     "text": [
      "Accuracy from Ridge Regression on Original Dataset without Dimension Reduction:\n",
      "------------------------------------------------------------\n",
      "RMSE for Ridge regression model on Original Dataset = 47811.84902753324\n",
      "Accuracy Percentage for Test Data using hyperparameter pair = 73.41 %\n"
     ]
    }
   ],
   "source": [
    "print(\"Accuracy from Ridge Regression on Original Dataset without Dimension Reduction:\")\n",
    "print(\"------------------------------------------------------------\")\n",
    "y_pred = grid_search_ridge.predict(X_test_cdn)\n",
    "RMSE_Ridge_Score = (np.sqrt(metrics.mean_squared_error(y_test,y_pred)))\n",
    "print(\"RMSE for Ridge regression model on Original Dataset = {}\".format(RMSE_Ridge_Score))\n",
    "Accuracy_Percentage_Ridge = 100 - ((np.sqrt(np.mean(np.square((y_test - y_pred) / y_test)))) * 100)\n",
    "print(\"Accuracy Percentage for Test Data using hyperparameter pair = {:.2f} %\".format(Accuracy_Percentage_Ridge))\n",
    "accuracy_name.append(\"Ridge Accuracy on Original Dataset\")\n",
    "accuracy.append(Accuracy_Percentage_Ridge)\n"
   ]
  },
  {
   "cell_type": "markdown",
   "metadata": {
    "id": "Z03DKWnKxt-g"
   },
   "source": [
    "### Observations"
   ]
  },
  {
   "cell_type": "code",
   "execution_count": 41,
   "metadata": {
    "id": "1nIAUPSExt-g",
    "outputId": "be6f3b16-7d55-4388-e92b-daa30b2ee6f1"
   },
   "outputs": [
    {
     "name": "stdout",
     "output_type": "stream",
     "text": [
      "\t \t ACCURACY COMPARISON\n",
      "------------------------------------------------------------------------------------\n",
      "DATASET                                  |\tACCURACY            \t|\n",
      "------------------------------------------------------------------------------------\n",
      "Dimension Reduced Validation Accuracy    |\t80.93261966814194   \t|\n",
      "Dimension Reduced Test Accuracy          |\t73.16621495158472   \t|\n",
      "Ridge Accuracy on Original Dataset       |\t73.40864518327284   \t|\n"
     ]
    }
   ],
   "source": [
    "print(\"\\t \\t ACCURACY COMPARISON\")\n",
    "print(\"------------------------------------------------------------------------------------\")\n",
    "print (\"{:<40} |\\t{:<20}\\t|\".format('DATASET','ACCURACY'))\n",
    "print(\"------------------------------------------------------------------------------------\")  \n",
    "combined = list(zip(accuracy_name, accuracy))\n",
    "\n",
    "for name, per in combined:\n",
    "    print(\"{:<40} |\\t{:<20}\\t|\".format(name, per))\n",
    "       "
   ]
  },
  {
   "cell_type": "code",
   "execution_count": 42,
   "metadata": {
    "id": "JUkB8koyxt-g",
    "outputId": "e17d5378-fdad-449e-841f-f5e3100a018e"
   },
   "outputs": [
    {
     "data": {
      "text/plain": [
       "[Text(0.5, 1.0, 'ACCURACY COMPARISON OF MODELS')]"
      ]
     },
     "execution_count": 42,
     "metadata": {},
     "output_type": "execute_result"
    },
    {
     "data": {
      "image/png": "[encoded data removed]",
      "text/plain": [
       "<Figure size 842.4x595.44 with 1 Axes>"
      ]
     },
     "metadata": {},
     "output_type": "display_data"
    }
   ],
   "source": [
    "sns.set(rc={'figure.figsize':(11.7,8.27)})\n",
    "sns.set_style('darkgrid')\n",
    "sns.lineplot(x=accuracy_name,y=accuracy,color='r').set(title='ACCURACY COMPARISON OF MODELS')"
   ]
  },
  {
   "cell_type": "markdown",
   "metadata": {
    "id": "bYP3fVssxt-h"
   },
   "source": [
    "### Findings:\n",
    "\n",
    "##### After applying dimension reduction, training accuracy was 81%, test accuracy was 73.2%. \n",
    "##### Number of components were reduced while tuning hyper parameters to avoid overfitting.\n",
    "##### Without dimension reduction, accuracy is 73.4%. This is slightly better than accuracy with dimension reduction. Although, it could have been caused by overfitting.\n"
   ]
  },
  {
   "cell_type": "markdown",
   "metadata": {
    "id": "1cgX1Wbyxt-h"
   },
   "source": [
    "## Part II: Clustering Analysis"
   ]
  },
  {
   "cell_type": "markdown",
   "metadata": {
    "id": "MiBwnmj1xt-h"
   },
   "source": [
    "- While we perform dimension reduction separately for numerical and categorical data, there are methods that can perform clustering analysis with numerical and categorical data combined. \n",
    "- As usual, the most important aspect is the distance metric to use. \n",
    "- For mixed data types, researchers have proposed to use the Gower distance. \n",
    "- The Gower distance is essentially a special distance metric that measures numerical data and categorical data separately, then combine them to form a distance calculation. "
   ]
  },
  {
   "cell_type": "markdown",
   "metadata": {
    "id": "ZaXt17BPxt-h"
   },
   "source": [
    "## Steps:\n",
    "    \n",
    "1. Split the X and y variables from the dataset.\n",
    "2. Compute the Gower distance of the full predictors set, i.e. no train/test split.\n",
    "3. Apply K-medoids using the gower distance matrix as input. The k-medoid function allows the user to input a distance matrix instead of the raw data.\n",
    "4. Compare the clustering result with the ’ground truth’.\n",
    "\n",
    "     4a. Clustering result will only tell you which observations belong to cluster k.So first create an array that records the cluster membership of each observation.\n",
    "     \n",
    "     4b. Bin the response variable (of the original data set) into the number of categories you used for k-medoids (for example, if you choose 5 clusters, bin the response into 5 groups). Use the pandas.qcut function so each group has roughly the same number of observations.\n",
    "     \n",
    "     4c. Compute the normalized mutual information (NMI) between your clustering results and the binned categories. (NMI is a metric to measure clustering performance. "
   ]
  },
  {
   "cell_type": "markdown",
   "metadata": {
    "id": "lRuVekKext-h"
   },
   "source": [
    "#### Step 1: Split the X and y variables from the dataset."
   ]
  },
  {
   "cell_type": "code",
   "execution_count": 43,
   "metadata": {
    "id": "rB4plbbTxt-i"
   },
   "outputs": [],
   "source": [
    "X = data.drop('SalePrice', axis = 1)\n",
    "y = data['SalePrice']"
   ]
  },
  {
   "cell_type": "markdown",
   "metadata": {
    "id": "OCPJ0qq8xt-i"
   },
   "source": [
    "#### Step 2: Compute the Gower distance of the full predictors set, i.e. no train/test split."
   ]
  },
  {
   "cell_type": "code",
   "execution_count": 44,
   "metadata": {
    "id": "iLntvwo7xt-i"
   },
   "outputs": [],
   "source": [
    "#get the gower distance matrix\n",
    "gower_matrix = gower.gower_matrix(X)"
   ]
  },
  {
   "cell_type": "code",
   "execution_count": 45,
   "metadata": {
    "id": "F7OxJD30xt-i",
    "outputId": "37b84c70-c8c8-4e65-a31f-c69c4ad3c25f"
   },
   "outputs": [
    {
     "data": {
      "text/plain": [
       "array([[0.        , 0.24024484, 0.03944052, ..., 0.19145243, 0.25093865,\n",
       "        0.20125039],\n",
       "       [0.24024484, 0.        , 0.24959742, ..., 0.24499281, 0.19383048,\n",
       "        0.1789145 ],\n",
       "       [0.03944052, 0.24959742, 0.        , ..., 0.20383762, 0.2743255 ,\n",
       "        0.22117272],\n",
       "       ...,\n",
       "       [0.19145243, 0.24499281, 0.20383762, ..., 0.        , 0.25380814,\n",
       "        0.25413764],\n",
       "       [0.25093865, 0.19383048, 0.2743255 , ..., 0.25380814, 0.        ,\n",
       "        0.16829133],\n",
       "       [0.20125039, 0.1789145 , 0.22117272, ..., 0.25413764, 0.16829133,\n",
       "        0.        ]], dtype=float32)"
      ]
     },
     "execution_count": 45,
     "metadata": {},
     "output_type": "execute_result"
    }
   ],
   "source": [
    "gower_matrix"
   ]
  },
  {
   "cell_type": "markdown",
   "metadata": {
    "id": "sLkNaEpUxt-i"
   },
   "source": [
    "#### Step 3: Apply K-medoids using the gower distance matrix as input. "
   ]
  },
  {
   "cell_type": "code",
   "execution_count": 46,
   "metadata": {
    "id": "nUo53se_xt-i",
    "outputId": "46eb0fb6-631f-4b4d-fbd3-a3809df857c7"
   },
   "outputs": [
    {
     "name": "stdout",
     "output_type": "stream",
     "text": [
      "[ 595  742 1064  950   31  237  347   39  665 1030]\n"
     ]
    }
   ],
   "source": [
    "#Initialize: select k random points out of the n data points as the medoids.\n",
    "cluster_list = []\n",
    "k = 10\n",
    "cluster_list.append(k)\n",
    "np.random.seed(23)\n",
    "# Setting random initial medoids.\n",
    "initial_kmedoids = np.random.choice(range(len(y)), k)\n",
    "print(initial_kmedoids)"
   ]
  },
  {
   "cell_type": "code",
   "execution_count": 47,
   "metadata": {
    "id": "UQi96Y1kxt-j"
   },
   "outputs": [],
   "source": [
    "# Creating instance of K-Medoids algorithm.\n",
    "# create K-Medoids algorithm for processing distance matrix instead of points\n",
    "# Distance matrix can be used instead of sequence of points to increase performance and for that purpose parameter 'data_type' should be used:\n",
    "    \n",
    "kmedoids_instance = kmedoids(gower_matrix, initial_kmedoids, data_type='distance_matrix')"
   ]
  },
  {
   "cell_type": "code",
   "execution_count": 48,
   "metadata": {
    "id": "pc_8iG2lxt-j"
   },
   "outputs": [],
   "source": [
    "#Run cluster analysis and obtain results.\n",
    "kmedoids_instance.process() \n",
    "\n",
    "#Returns list of allocated clusters, each cluster contains indexes of objects in list of data.\n",
    "clusters = kmedoids_instance.get_clusters()\n",
    "\n",
    "#Returns list of medoids of allocated clusters represented by indexes from the input data.\n",
    "medoids = kmedoids_instance.get_medoids()"
   ]
  },
  {
   "cell_type": "code",
   "execution_count": 49,
   "metadata": {
    "id": "yMM6Ll9cxt-j",
    "outputId": "2e0942e8-3f97-4ba6-b5d5-c46902ce4441"
   },
   "outputs": [
    {
     "name": "stdout",
     "output_type": "stream",
     "text": [
      "Cluster output example:\n",
      " --------------------------------------------\n",
      " [5, 9, 48, 61, 88, 92, 93, 110, 142, 149, 163, 165, 166, 177, 182, 184, 187, 202, 238, 249, 266, 288, 291, 334, 344, 351, 353, 360, 370, 385, 386, 389, 393, 401, 405, 406, 417, 430, 438, 448, 458, 462, 466, 501, 507, 519, 521, 527, 533, 541, 544, 555, 560, 561, 577, 582, 584, 594, 597, 605, 612, 633, 648, 650, 654, 656, 660, 678, 695, 708, 720, 740, 746, 764, 769, 785, 798, 804, 811, 836, 884, 887, 918, 935, 948, 952, 962, 1025, 1029, 1032, 1043, 1065, 1066, 1079, 1086, 1092, 1108, 1112, 1116, 1117, 1138, 1139, 1141, 1162, 1167, 1171, 1174, 1179, 1216, 1255, 1267, 1271, 1275, 1276, 1277, 1300, 1318, 1323, 1324, 1341, 1344, 1352, 1369, 1375, 1376, 1388, 1389, 1390, 1402, 1431, 1439, 1440]\n"
     ]
    }
   ],
   "source": [
    "# Showing allocated clusters.\n",
    "print(\"Cluster output example:\\n --------------------------------------------\\n\",clusters[0])"
   ]
  },
  {
   "cell_type": "code",
   "execution_count": 50,
   "metadata": {
    "id": "aL4Aa8moxt-j",
    "outputId": "e986cebf-9541-43cb-fd8d-e70ce1d6ca3e"
   },
   "outputs": [
    {
     "name": "stdout",
     "output_type": "stream",
     "text": [
      "Clusters and Mediods created:\n",
      "-------------------------------------------------------------------------------\n",
      "   cluster                                            Indexes  medoids\n",
      "0        0  [5, 9, 48, 61, 88, 92, 93, 110, 142, 149, 163,...      836\n",
      "1        1  [10, 12, 16, 37, 40, 55, 59, 66, 71, 73, 75, 7...      881\n",
      "2        2  [2, 3, 4, 35, 46, 50, 57, 65, 72, 84, 85, 86, ...      168\n",
      "3        3  [47, 56, 87, 105, 115, 145, 157, 158, 180, 183...      452\n",
      "4        4  [24, 31, 33, 36, 41, 42, 43, 49, 53, 74, 76, 8...     1156\n",
      "5        5  [11, 13, 20, 58, 62, 112, 151, 167, 178, 196, ...       13\n",
      "6        6  [7, 70, 80, 100, 101, 109, 118, 126, 130, 152,...      982\n",
      "7        7  [8, 15, 21, 30, 51, 63, 77, 79, 104, 108, 121,...     1142\n",
      "8        8  [1, 14, 17, 19, 23, 26, 28, 29, 38, 39, 44, 52...     1242\n",
      "9        9  [0, 6, 18, 22, 25, 27, 32, 34, 45, 60, 64, 67,...      216 \n",
      "-------------------------------------------------------------------------------\n",
      "\n"
     ]
    }
   ],
   "source": [
    "#Cluster Visualization:\n",
    "print(\"Clusters and Mediods created:\")\n",
    "print(\"-------------------------------------------------------------------------------\")\n",
    "cluster_df = pd.DataFrame(list(zip(clusters, medoids)),columns =['Indexes', 'medoids'])\n",
    "cluster_df.reset_index(inplace=True)\n",
    "cluster_df = cluster_df.rename(columns = {'index':'cluster'})\n",
    "print(cluster_df,'\\n-------------------------------------------------------------------------------\\n')"
   ]
  },
  {
   "cell_type": "code",
   "execution_count": 51,
   "metadata": {
    "id": "pia2smHyxt-j",
    "outputId": "cbe516b5-c7c3-4b3e-94c3-4e63f0c0b9ac"
   },
   "outputs": [
    {
     "name": "stdout",
     "output_type": "stream",
     "text": [
      "Number of Datapoints in cluster 0 is: 132\n",
      "Number of Datapoints in cluster 1 is: 218\n",
      "Number of Datapoints in cluster 2 is: 195\n",
      "Number of Datapoints in cluster 3 is: 75\n",
      "Number of Datapoints in cluster 4 is: 149\n",
      "Number of Datapoints in cluster 5 is: 98\n",
      "Number of Datapoints in cluster 6 is: 94\n",
      "Number of Datapoints in cluster 7 is: 123\n",
      "Number of Datapoints in cluster 8 is: 173\n",
      "Number of Datapoints in cluster 9 is: 194\n"
     ]
    }
   ],
   "source": [
    "# Checking the number of datapoints in each cluster\n",
    "for i in range(0,k):\n",
    "    print(\"Number of Datapoints in cluster {} is: {}\".format(i,len(clusters[i])))"
   ]
  },
  {
   "cell_type": "markdown",
   "metadata": {
    "id": "eFJ_s0kKxt-j"
   },
   "source": [
    "#### Step 4a: Clustering result will only tell you which observations belong to cluster k.So first create an array that records the cluster membership of each observation."
   ]
  },
  {
   "cell_type": "code",
   "execution_count": 52,
   "metadata": {
    "id": "n7iNb6jPxt-j",
    "outputId": "5bac32bc-788c-4388-b636-ad16082e6927"
   },
   "outputs": [
    {
     "name": "stdout",
     "output_type": "stream",
     "text": [
      "[9. 8. 2. ... 2. 8. 1.]\n"
     ]
    }
   ],
   "source": [
    "# create an array that records the cluster membership of each observation.\n",
    "y_assignments = np.zeros(len(y))\n",
    "for i in range(1,k):\n",
    "    y_assignments[clusters[i]] = i\n",
    "    \n",
    "print(y_assignments)"
   ]
  },
  {
   "cell_type": "code",
   "execution_count": 53,
   "metadata": {
    "id": "lvWMFyagxt-k",
    "outputId": "9296b65d-bda2-434f-9071-15cde7b11655"
   },
   "outputs": [
    {
     "name": "stdout",
     "output_type": "stream",
     "text": [
      "      y_assignments       y\n",
      "0               9.0  208500\n",
      "1               8.0  181500\n",
      "2               2.0  223500\n",
      "3               2.0  140000\n",
      "4               2.0  250000\n",
      "...             ...     ...\n",
      "1446            2.0  175000\n",
      "1447            1.0  210000\n",
      "1448            2.0  266500\n",
      "1449            8.0  142125\n",
      "1450            1.0  147500\n",
      "\n",
      "[1451 rows x 2 columns]\n"
     ]
    }
   ],
   "source": [
    "# Creating a dataframe for better visualization\n",
    "assign = pd.DataFrame(list(zip(y_assignments,y)),columns =['y_assignments', 'y'])\n",
    "\n",
    "print(assign)"
   ]
  },
  {
   "cell_type": "code",
   "execution_count": 54,
   "metadata": {
    "id": "Ju0GtQPzxt-k",
    "outputId": "e1e778b3-fae2-41d2-edee-c409cd755aa4"
   },
   "outputs": [
    {
     "data": {
      "image/png": "[encoded data removed]",
      "text/plain": [
       "<Figure size 720x504 with 1 Axes>"
      ]
     },
     "metadata": {},
     "output_type": "display_data"
    }
   ],
   "source": [
    "#Plot showing Sale price vs clusters\n",
    "plt.figure(figsize=(10,7))\n",
    "sns.scatterplot(data=assign,x='y_assignments',y = 'y',hue = \"y_assignments\",palette=\"deep\")\n",
    "\n",
    "plt.title(\"Sale Price vs Clusters\")\n",
    "plt.xlabel(\"Clusters\")\n",
    "plt.ylabel(\"SalePrice\")\n",
    "\n",
    "plt.show()"
   ]
  },
  {
   "cell_type": "markdown",
   "metadata": {
    "id": "8ZXNIeikxt-k"
   },
   "source": [
    "#### Step 4b: Bin the response variable (of the original data set) into the number of categories you used for k-medoids  "
   ]
  },
  {
   "cell_type": "code",
   "execution_count": 55,
   "metadata": {
    "id": "gHdx_AgBxt-k",
    "outputId": "38361f7e-bca4-402e-a026-6ca15646521c"
   },
   "outputs": [
    {
     "data": {
      "text/plain": [
       "0    7\n",
       "1    6\n",
       "2    7\n",
       "3    3\n",
       "4    8\n",
       "5    3\n",
       "6    9\n",
       "7    7\n",
       "8    2\n",
       "9    1\n",
       "Name: SalePrice, dtype: category\n",
       "Categories (10, int64): [0 < 1 < 2 < 3 ... 6 < 7 < 8 < 9]"
      ]
     },
     "execution_count": 55,
     "metadata": {},
     "output_type": "execute_result"
    }
   ],
   "source": [
    "# Bin response variable so each group has roughly the same number of observations.\n",
    "response_binned = pd.qcut(y, q = k, labels = range(k))\n",
    "response_binned[:10]"
   ]
  },
  {
   "cell_type": "markdown",
   "metadata": {
    "id": "1A8menXbxt-k"
   },
   "source": [
    "##### Bins are made on the basis of increasing selling price range "
   ]
  },
  {
   "cell_type": "markdown",
   "metadata": {
    "id": "RV5BAK4Sxt-k"
   },
   "source": [
    "#### Step 4c: Compute the normalized mutual information (NMI) between your clustering results and the binned categories. "
   ]
  },
  {
   "cell_type": "markdown",
   "metadata": {
    "id": "ghFnTJsExt-l"
   },
   "source": [
    "### Check performance with NMI performance metrics with 10 clusters"
   ]
  },
  {
   "cell_type": "code",
   "execution_count": 56,
   "metadata": {
    "id": "wvIve_sOxt-l",
    "outputId": "9f946b45-d09d-47d8-8bed-70a83c188459"
   },
   "outputs": [
    {
     "data": {
      "text/plain": [
       "array([9, 8, 2, ..., 2, 8, 1])"
      ]
     },
     "execution_count": 56,
     "metadata": {},
     "output_type": "execute_result"
    }
   ],
   "source": [
    "#Assign labels to Clusters\n",
    "#Creating an array for labels with length = number of rows in X\n",
    "cluster_labels = np.zeros([X.shape[0]], dtype=int)\n",
    "\n",
    "for i in range(1,k):\n",
    "    cluster_labels[clusters[i]] = i\n",
    "\n",
    "cluster_labels "
   ]
  },
  {
   "cell_type": "code",
   "execution_count": 57,
   "metadata": {
    "id": "JDS-bACXxt-l",
    "outputId": "766fb587-ecd2-46f8-9f20-baff58bacc23"
   },
   "outputs": [
    {
     "name": "stdout",
     "output_type": "stream",
     "text": [
      "Normalized Mutual Information score with 10 clusters :0.18428804060392553\n"
     ]
    }
   ],
   "source": [
    "# NMI between clustering results and the binned categories.\n",
    "nmi_score = []\n",
    "NMI_1 = normalized_mutual_info_score(response_binned, cluster_labels)\n",
    "nmi_score.append(NMI_1)\n",
    "print(\"Normalized Mutual Information score with {} clusters :{}\".format(k,NMI_1))"
   ]
  },
  {
   "cell_type": "markdown",
   "metadata": {
    "id": "EyWoYMq2xt-l"
   },
   "source": [
    "### Repeating the same procedure for cluster k = 3"
   ]
  },
  {
   "cell_type": "code",
   "execution_count": 58,
   "metadata": {
    "id": "S0_s9Pjvxt-l",
    "outputId": "a2c8a705-e67f-4d3d-9c58-3ca99aacfaf5"
   },
   "outputs": [
    {
     "name": "stdout",
     "output_type": "stream",
     "text": [
      "initial_kmedoids:  [ 595  742 1064]\n"
     ]
    }
   ],
   "source": [
    "# Randomly sample 3 observations as initial centers.\n",
    "\n",
    "k = 3\n",
    "cluster_list.append(k)\n",
    "np.random.seed(23)\n",
    "initial_kmedoids = np.random.choice(range(len(y)), k)\n",
    "print(\"initial_kmedoids: \",initial_kmedoids)\n"
   ]
  },
  {
   "cell_type": "code",
   "execution_count": 59,
   "metadata": {
    "id": "9RN-QjOdxt-m",
    "outputId": "419921a7-5619-4968-c76d-fb9280689390"
   },
   "outputs": [
    {
     "name": "stdout",
     "output_type": "stream",
     "text": [
      "Medoids: [1242, 168, 602]\n"
     ]
    }
   ],
   "source": [
    "#Step 3: Apply K-medoids using the gower distance matrix as input. \n",
    "kmedoids_instance = kmedoids(gower_matrix, initial_kmedoids, data_type='distance_matrix')\n",
    "\n",
    "kmedoids_instance.process() #Run cluster analysis and obtain results\n",
    "\n",
    "medoids = kmedoids_instance.get_medoids() #finding new medoids\n",
    "\n",
    "clusters = kmedoids_instance.get_clusters()  #finding new clustersdr\n",
    "\n",
    "print(\"Medoids:\",medoids)\n"
   ]
  },
  {
   "cell_type": "code",
   "execution_count": 60,
   "metadata": {
    "id": "aUeTWm--xt-m",
    "outputId": "3fd4016a-833e-4839-bc06-55e2fcdb451d"
   },
   "outputs": [
    {
     "name": "stdout",
     "output_type": "stream",
     "text": [
      "Clusters and Mediods created:\n",
      "-------------------------------------------------------------------------------\n",
      "   cluster                                            Indexes  medoids\n",
      "0        0  [1, 8, 9, 10, 12, 14, 15, 16, 17, 19, 21, 23, ...     1242\n",
      "1        1  [0, 3, 5, 7, 11, 20, 35, 46, 50, 56, 57, 58, 6...      168\n",
      "2        2  [2, 4, 6, 13, 18, 22, 25, 27, 32, 34, 36, 45, ...      602 \n",
      "-------------------------------------------------------------------------------\n",
      "\n"
     ]
    }
   ],
   "source": [
    "#Cluster Visualization:\n",
    "print(\"Clusters and Mediods created:\")\n",
    "print(\"-------------------------------------------------------------------------------\")\n",
    "cluster_df = pd.DataFrame(list(zip(clusters, medoids)),columns =['Indexes', 'medoids'])\n",
    "cluster_df.reset_index(inplace=True)\n",
    "cluster_df = cluster_df.rename(columns = {'index':'cluster'})\n",
    "print(cluster_df,'\\n-------------------------------------------------------------------------------\\n')"
   ]
  },
  {
   "cell_type": "code",
   "execution_count": 61,
   "metadata": {
    "id": "a8zeExx2xt-m",
    "outputId": "f42a0abd-18b4-428e-8a86-327e77ad42eb"
   },
   "outputs": [
    {
     "name": "stdout",
     "output_type": "stream",
     "text": [
      "Number of Datapoints in cluster 0 is: 760\n",
      "Number of Datapoints in cluster 1 is: 358\n",
      "Number of Datapoints in cluster 2 is: 333\n"
     ]
    }
   ],
   "source": [
    "# Checking the number of datapoints in each cluster\n",
    "for i in range(0,k):\n",
    "    print(\"Number of Datapoints in cluster {} is: {}\".format(i,len(clusters[i])))"
   ]
  },
  {
   "cell_type": "code",
   "execution_count": 62,
   "metadata": {
    "id": "kqOHGs9yxt-m",
    "outputId": "7482d787-ba6e-432f-d470-29cbee9a0ac7"
   },
   "outputs": [
    {
     "name": "stdout",
     "output_type": "stream",
     "text": [
      "[1 0 2 ... 1 0 0]\n"
     ]
    }
   ],
   "source": [
    "# 4a: first create an array that records the cluster membership of each observation\n",
    "# Assign labels to Clusters\n",
    "\n",
    "labels = np.zeros([len(X)], dtype=int)\n",
    "for i in range(k):\n",
    "    labels[clusters[i]] = i\n",
    "print(labels)"
   ]
  },
  {
   "cell_type": "code",
   "execution_count": 63,
   "metadata": {
    "id": "-CLG5lU6xt-n",
    "outputId": "620c25a0-00f8-4754-e06f-95db532c74ee"
   },
   "outputs": [
    {
     "name": "stdout",
     "output_type": "stream",
     "text": [
      "response variable binned into 3 categories :\n",
      "0       2\n",
      "1       1\n",
      "2       2\n",
      "3       1\n",
      "4       2\n",
      "       ..\n",
      "1455    1\n",
      "1456    2\n",
      "1457    2\n",
      "1458    1\n",
      "1459    1\n",
      "Name: SalePrice, Length: 1451, dtype: category\n",
      "Categories (3, int64): [0 < 1 < 2]\n"
     ]
    }
   ],
   "source": [
    "# 4b: Bin the response variable (of the original data set) into the number of categories you used for k-medoids\n",
    "\n",
    "bins = pd.qcut(y, k, range(k))\n",
    "print('response variable binned into {} categories :\\n{}'.format(k,bins))"
   ]
  },
  {
   "cell_type": "code",
   "execution_count": 64,
   "metadata": {
    "id": "MOFLuHFcxt-n",
    "outputId": "2c0f488f-0ecd-4e2a-cf53-0b8880d983c7"
   },
   "outputs": [
    {
     "name": "stdout",
     "output_type": "stream",
     "text": [
      "[1. 0. 2. ... 1. 0. 0.]\n"
     ]
    }
   ],
   "source": [
    "y_assignments = np.zeros(len(y))\n",
    "for i in range(1,k):\n",
    "    y_assignments[clusters[i]] = i\n",
    "    \n",
    "print(y_assignments)\n"
   ]
  },
  {
   "cell_type": "code",
   "execution_count": 65,
   "metadata": {
    "id": "_s3e9uquxt-n",
    "outputId": "577123be-e40b-45f5-a3d5-f18aad10f710"
   },
   "outputs": [
    {
     "name": "stdout",
     "output_type": "stream",
     "text": [
      "      y_assignments       y\n",
      "0               1.0  208500\n",
      "1               0.0  181500\n",
      "2               2.0  223500\n",
      "3               1.0  140000\n",
      "4               2.0  250000\n",
      "...             ...     ...\n",
      "1446            1.0  175000\n",
      "1447            0.0  210000\n",
      "1448            1.0  266500\n",
      "1449            0.0  142125\n",
      "1450            0.0  147500\n",
      "\n",
      "[1451 rows x 2 columns]\n"
     ]
    }
   ],
   "source": [
    "# Creating a dataframe for better visualization\n",
    "assign = pd.DataFrame(list(zip(y_assignments,y)),columns =['y_assignments', 'y'])\n",
    "\n",
    "print(assign)"
   ]
  },
  {
   "cell_type": "code",
   "execution_count": 66,
   "metadata": {
    "id": "dBhemKTFxt-n",
    "outputId": "345e5e0c-ed3f-4127-d699-e3597342f86d"
   },
   "outputs": [
    {
     "data": {
      "image/png": "[encoded data removed]",
      "text/plain": [
       "<Figure size 576x360 with 1 Axes>"
      ]
     },
     "metadata": {},
     "output_type": "display_data"
    }
   ],
   "source": [
    "#Plot to show sale price vs 3 clusters\n",
    "plt.figure(figsize=(8,5))\n",
    "sns.scatterplot(data=assign,x='y_assignments',y = 'y', hue = \"y_assignments\",palette=\"deep\")\n",
    "\n",
    "plt.title(\"Sale Price vs clusters\")\n",
    "plt.xlabel(\"Clusters\")\n",
    "plt.ylabel(\"Selling Price\")\n",
    "\n",
    "plt.show()"
   ]
  },
  {
   "cell_type": "code",
   "execution_count": 67,
   "metadata": {
    "id": "ZmEtdyy4xt-o",
    "outputId": "2e32dad5-0899-4c0b-9c49-3af0d9995bf4"
   },
   "outputs": [
    {
     "name": "stdout",
     "output_type": "stream",
     "text": [
      "Normalized Mutual Information score with 3 clusters :0.28863032518077514\n"
     ]
    }
   ],
   "source": [
    "# 4c: Compute the normalized mutual information (NMI) between your clustering results and the binned categories.\n",
    "\n",
    "NMI_new = normalized_mutual_info_score(bins, labels)\n",
    "nmi_score.append(NMI_new)\n",
    "print(\"Normalized Mutual Information score with {} clusters :{}\".format(k,NMI_new))"
   ]
  },
  {
   "cell_type": "markdown",
   "metadata": {
    "id": "m0dnQO1Uxt-o"
   },
   "source": [
    "### Repeating the same procedure for cluster k = 5"
   ]
  },
  {
   "cell_type": "code",
   "execution_count": 68,
   "metadata": {
    "id": "UONvw0amxt-o",
    "outputId": "75117f17-2314-4fb3-dc73-e46d930cc045"
   },
   "outputs": [
    {
     "name": "stdout",
     "output_type": "stream",
     "text": [
      "initial_kmedoids:  [ 595  742 1064  950   31]\n"
     ]
    }
   ],
   "source": [
    "# Randomly sample 5 observations as initial centers.\n",
    "\n",
    "k = 5\n",
    "cluster_list.append(k)\n",
    "np.random.seed(23)\n",
    "initial_kmedoids = np.random.choice(range(len(y)), k)\n",
    "print(\"initial_kmedoids: \",initial_kmedoids)\n"
   ]
  },
  {
   "cell_type": "code",
   "execution_count": 69,
   "metadata": {
    "id": "wAbl-VjJxt-o",
    "outputId": "83ec4a98-3b0f-42e6-baeb-42fb84bda074"
   },
   "outputs": [
    {
     "name": "stdout",
     "output_type": "stream",
     "text": [
      "Medoids: [602, 1242, 881, 168, 1142]\n",
      "Cluster output example:\n",
      " --------------------------------------------\n",
      " [2, 4, 6, 13, 18, 22, 25, 27, 32, 34, 36, 45, 47, 53, 60, 62, 64, 67, 81, 82, 89, 96, 100, 103, 123, 133, 138, 141, 143, 148, 151, 162, 166, 169, 174, 178, 186, 189, 192, 196, 199, 200, 203, 211, 213, 216, 219, 220, 224, 229, 235, 237, 239, 250, 256, 275, 277, 280, 281, 282, 283, 301, 304, 308, 325, 331, 332, 335, 336, 337, 342, 349, 350, 354, 355, 361, 368, 375, 377, 380, 384, 387, 398, 399, 400, 404, 411, 419, 420, 425, 427, 439, 442, 445, 450, 456, 464, 467, 469, 471, 472, 473, 475, 477, 479, 480, 482, 495, 506, 510, 514, 528, 537, 538, 540, 550, 557, 565, 575, 578, 579, 583, 591, 593, 595, 596, 602, 604, 608, 610, 616, 629, 637, 638, 642, 651, 658, 661, 664, 670, 674, 675, 679, 680, 685, 686, 687, 696, 697, 701, 703, 704, 709, 715, 717, 718, 721, 723, 724, 727, 728, 739, 741, 745, 749, 762, 765, 771, 772, 773, 779, 780, 787, 790, 802, 808, 812, 814, 816, 821, 822, 824, 829, 835, 847, 848, 861, 863, 876, 882, 885, 895, 900, 903, 920, 922, 925, 927, 929, 930, 931, 943, 954, 959, 976, 981, 988, 993, 996, 998, 1002, 1010, 1011, 1013, 1014, 1015, 1017, 1018, 1021, 1027, 1030, 1036, 1038, 1041, 1045, 1048, 1050, 1054, 1068, 1072, 1074, 1076, 1089, 1100, 1103, 1109, 1111, 1115, 1120, 1121, 1132, 1140, 1146, 1149, 1151, 1152, 1155, 1159, 1160, 1175, 1181, 1187, 1192, 1197, 1199, 1201, 1203, 1211, 1222, 1233, 1234, 1235, 1244, 1249, 1251, 1257, 1260, 1263, 1272, 1280, 1289, 1295, 1297, 1298, 1299, 1302, 1303, 1308, 1310, 1316, 1319, 1322, 1333, 1339, 1340, 1345, 1347, 1351, 1353, 1358, 1360, 1361, 1365, 1367, 1379, 1381, 1385, 1393, 1394, 1396, 1404, 1406, 1410, 1413, 1417, 1420, 1428, 1432, 1435, 1438, 1442, 1443, 1445]\n"
     ]
    }
   ],
   "source": [
    "#Step 3: Apply K-medoids using the gower distance matrix as input. \n",
    "kmedoids_instance = kmedoids(gower_matrix, initial_kmedoids, data_type='distance_matrix')\n",
    "\n",
    "kmedoids_instance.process() #Run cluster analysis and obtain results\n",
    "\n",
    "medoids = kmedoids_instance.get_medoids() #finding new medoids\n",
    "\n",
    "clusters = kmedoids_instance.get_clusters()  #finding new clustersdr\n",
    "\n",
    "print(\"Medoids:\",medoids)\n",
    "# Showing allocated clusters.\n",
    "print(\"Cluster output example:\\n --------------------------------------------\\n\",clusters[0])"
   ]
  },
  {
   "cell_type": "code",
   "execution_count": 70,
   "metadata": {
    "id": "noWANA3kxt-p",
    "outputId": "f4298d2e-326e-4d18-81cb-ab898705e0b9"
   },
   "outputs": [
    {
     "name": "stdout",
     "output_type": "stream",
     "text": [
      "Clusters and Mediods created:\n",
      "-------------------------------------------------------------------------------\n",
      "   cluster                                            Indexes  medoids\n",
      "0        0  [2, 4, 6, 13, 18, 22, 25, 27, 32, 34, 36, 45, ...      602\n",
      "1        1  [1, 9, 14, 17, 19, 23, 24, 26, 28, 29, 33, 38,...     1242\n",
      "2        2  [7, 10, 12, 16, 31, 37, 40, 42, 49, 55, 59, 66...      881\n",
      "3        3  [0, 3, 5, 11, 20, 35, 46, 50, 56, 57, 58, 65, ...      168\n",
      "4        4  [8, 15, 21, 30, 48, 51, 63, 74, 77, 79, 88, 10...     1142 \n",
      "-------------------------------------------------------------------------------\n",
      "\n"
     ]
    }
   ],
   "source": [
    "#Cluster Visualization:\n",
    "print(\"Clusters and Mediods created:\")\n",
    "print(\"-------------------------------------------------------------------------------\")\n",
    "cluster_df = pd.DataFrame(list(zip(clusters, medoids)),columns =['Indexes', 'medoids'])\n",
    "cluster_df.reset_index(inplace=True)\n",
    "cluster_df = cluster_df.rename(columns = {'index':'cluster'})\n",
    "print(cluster_df,'\\n-------------------------------------------------------------------------------\\n')"
   ]
  },
  {
   "cell_type": "code",
   "execution_count": 71,
   "metadata": {
    "id": "lOPA1ENnxt-p",
    "outputId": "370c1481-60df-42fe-c9d5-5d884736f583"
   },
   "outputs": [
    {
     "name": "stdout",
     "output_type": "stream",
     "text": [
      "Number of Datapoints in cluster 0 is: 313\n",
      "Number of Datapoints in cluster 1 is: 352\n",
      "Number of Datapoints in cluster 2 is: 293\n",
      "Number of Datapoints in cluster 3 is: 319\n",
      "Number of Datapoints in cluster 4 is: 174\n"
     ]
    }
   ],
   "source": [
    "# Checking the number of datapoints in each cluster\n",
    "for i in range(0,k):\n",
    "    print(\"Number of Datapoints in cluster {} is: {}\".format(i,len(clusters[i])))"
   ]
  },
  {
   "cell_type": "code",
   "execution_count": 72,
   "metadata": {
    "id": "Rm3sbtsBxt-p",
    "outputId": "ede6d0ef-1a8c-4a42-e5e6-20abde1867fc"
   },
   "outputs": [
    {
     "name": "stdout",
     "output_type": "stream",
     "text": [
      "[3 1 0 ... 3 1 2]\n"
     ]
    }
   ],
   "source": [
    "# 4a: first create an array that records the cluster membership of each observation\n",
    "# Assign labels to Clusters\n",
    "\n",
    "labels = np.zeros([len(X)], dtype=int)\n",
    "for i in range(k):\n",
    "    labels[clusters[i]] = i\n",
    "print(labels)"
   ]
  },
  {
   "cell_type": "code",
   "execution_count": 73,
   "metadata": {
    "id": "iee0KtxRxt-p",
    "outputId": "59ee1d34-f9ad-490b-8d43-fc01ed3a92d4"
   },
   "outputs": [
    {
     "name": "stdout",
     "output_type": "stream",
     "text": [
      "response variable binned into 5 categories :\n",
      "0       3\n",
      "1       3\n",
      "2       3\n",
      "3       1\n",
      "4       4\n",
      "       ..\n",
      "1455    2\n",
      "1456    3\n",
      "1457    4\n",
      "1458    1\n",
      "1459    2\n",
      "Name: SalePrice, Length: 1451, dtype: category\n",
      "Categories (5, int64): [0 < 1 < 2 < 3 < 4]\n"
     ]
    }
   ],
   "source": [
    "# 4b: Bin the response variable (of the original data set) into the number of categories you used for k-medoids\n",
    "\n",
    "bins = pd.qcut(y, k, range(k))\n",
    "print('response variable binned into {} categories :\\n{}'.format(k,bins))"
   ]
  },
  {
   "cell_type": "code",
   "execution_count": 74,
   "metadata": {
    "id": "bXj9k-S-xt-p",
    "outputId": "7b9f59fe-eb57-4958-925d-8cfaf74c0746"
   },
   "outputs": [
    {
     "name": "stdout",
     "output_type": "stream",
     "text": [
      "[3. 1. 0. ... 3. 1. 2.]\n"
     ]
    }
   ],
   "source": [
    "y_assignments = np.zeros(len(y))\n",
    "for i in range(1,k):\n",
    "    y_assignments[clusters[i]] = i\n",
    "    \n",
    "print(y_assignments)\n"
   ]
  },
  {
   "cell_type": "code",
   "execution_count": 75,
   "metadata": {
    "id": "bU0EkAXZxt-p",
    "outputId": "fa247f20-3fbc-45f7-f2e3-a344299c28cb"
   },
   "outputs": [
    {
     "name": "stdout",
     "output_type": "stream",
     "text": [
      "      y_assignments       y\n",
      "0               3.0  208500\n",
      "1               1.0  181500\n",
      "2               0.0  223500\n",
      "3               3.0  140000\n",
      "4               0.0  250000\n",
      "...             ...     ...\n",
      "1446            3.0  175000\n",
      "1447            2.0  210000\n",
      "1448            3.0  266500\n",
      "1449            1.0  142125\n",
      "1450            2.0  147500\n",
      "\n",
      "[1451 rows x 2 columns]\n"
     ]
    }
   ],
   "source": [
    "# Creating a dataframe for better visualization\n",
    "assign = pd.DataFrame(list(zip(y_assignments,y)),columns =['y_assignments', 'y'])\n",
    "\n",
    "print(assign)"
   ]
  },
  {
   "cell_type": "code",
   "execution_count": 76,
   "metadata": {
    "id": "blKMXbK8xt-q",
    "outputId": "27bc7d3e-4983-4c5b-ffab-848225567bf8"
   },
   "outputs": [
    {
     "data": {
      "image/png": "[encoded data removed]",
      "text/plain": [
       "<Figure size 576x360 with 1 Axes>"
      ]
     },
     "metadata": {},
     "output_type": "display_data"
    }
   ],
   "source": [
    "#Plot to show sale price vs 5 clusters\n",
    "plt.figure(figsize=(8,5))\n",
    "sns.scatterplot(data=assign,x='y_assignments',y = 'y', hue = \"y_assignments\",palette=\"deep\")\n",
    "\n",
    "plt.title(\"Sale Price vs clusters\")\n",
    "plt.xlabel(\"Clusters\")\n",
    "plt.ylabel(\"Selling Price\")\n",
    "\n",
    "plt.show()"
   ]
  },
  {
   "cell_type": "code",
   "execution_count": 77,
   "metadata": {
    "id": "rxawSLPCxt-q",
    "outputId": "3dbe3715-3ed5-4c6e-e5a6-9182639a686f"
   },
   "outputs": [
    {
     "name": "stdout",
     "output_type": "stream",
     "text": [
      "Normalized Mutual Information score with 5 clusters :0.21221029395430532\n"
     ]
    }
   ],
   "source": [
    "# 4c: Compute the normalized mutual information (NMI) between your clustering results and the binned categories.\n",
    "\n",
    "NMI_new = normalized_mutual_info_score(bins, labels)\n",
    "nmi_score.append(NMI_new)\n",
    "print(\"Normalized Mutual Information score with {} clusters :{}\".format(k,NMI_new))"
   ]
  },
  {
   "cell_type": "code",
   "execution_count": 78,
   "metadata": {
    "id": "qB-szsrLxt-q",
    "outputId": "0bb1768a-ce98-40db-b1be-8108a90dcac7"
   },
   "outputs": [
    {
     "name": "stdout",
     "output_type": "stream",
     "text": [
      "\t \t NMI SCORE COMPARISON\n",
      "------------------------------------------------------------------------------------\n",
      "NUMBER OF CLUSTERS                       |\tNMI SCORE           \t|\n",
      "------------------------------------------------------------------------------------\n",
      "10                                       |\t0.18428804060392553 \t|\n",
      "3                                        |\t0.28863032518077514 \t|\n",
      "5                                        |\t0.21221029395430532 \t|\n"
     ]
    }
   ],
   "source": [
    "print(\"\\t \\t NMI SCORE COMPARISON\")\n",
    "print(\"------------------------------------------------------------------------------------\")\n",
    "print (\"{:<40} |\\t{:<20}\\t|\".format('NUMBER OF CLUSTERS','NMI SCORE'))\n",
    "print(\"------------------------------------------------------------------------------------\")  \n",
    "combined = list(zip(cluster_list, nmi_score))\n",
    "\n",
    "for nc, nm in combined:\n",
    "    print(\"{:<40} |\\t{:<20}\\t|\".format(nc, nm))\n",
    "       "
   ]
  },
  {
   "cell_type": "markdown",
   "metadata": {
    "id": "yLx5zQe_xt-q"
   },
   "source": [
    "# Observations:\n",
    "\n",
    "##### Normalized Mutual Information (NMI) is a normalization of the Mutual Information (MI) score to scale the results between 0 (no mutual information) and 1 (perfect correlation).\n",
    "\n",
    "##### Using NMI score we are determining the score of clustering\n",
    "##### Low NMI shows that class members are mostly dispersed among various clusters.\n",
    "\n",
    "##### NMI for the first clustering (0.184) is the lowest\n",
    "##### It would mean we would prefer the clustering size 3\n",
    "##### As number of clusters decreases, NMI score seems to improve\n",
    "\n",
    "\n",
    "\n",
    "\n",
    "\n",
    "\n",
    "\n",
    "\n",
    "\n",
    "\n",
    "------------------------------------------------------------------------------------------------------------------------------"
   ]
  },
  {
   "cell_type": "markdown",
   "metadata": {
    "id": "1BkMODH8xt-q"
   },
   "source": [
    "#### References:\n",
    "\n",
    "https://pyclustering.github.io/docs/0.9.0/html/d0/dd3/classpyclustering_1_1cluster_1_1kmedoids_1_1kmedoids.html\n",
    "\n",
    "https://medium.com/analytics-vidhya/gowers-distance-899f9c4bd553\n",
    "\n",
    "https://scikit-learn.org/stable/modules/clustering.html\n",
    "\n",
    "https://scikit-learn.org/stable/modules/generated/sklearn.metrics.normalized_mutual_info_score.html\n",
    "\n",
    "https://course.ccs.neu.edu/cs6140sp15/7_locality_cluster/Assignment-6/NMI.pdf\n",
    "   "
   ]
  }
 ],
 "metadata": {
  "colab": {
   "provenance": []
  },
  "kernelspec": {
   "display_name": "Python 3",
   "language": "python",
   "name": "python3"
  },
  "language_info": {
   "codemirror_mode": {
    "name": "ipython",
    "version": 3
   },
   "file_extension": ".py",
   "mimetype": "text/x-python",
   "name": "python",
   "nbconvert_exporter": "python",
   "pygments_lexer": "ipython3",
   "version": "3.8.5"
  }
 },
 "nbformat": 4,
 "nbformat_minor": 1
}
